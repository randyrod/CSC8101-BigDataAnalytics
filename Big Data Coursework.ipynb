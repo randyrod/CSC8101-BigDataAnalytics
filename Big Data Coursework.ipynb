{
 "cells": [
  {
   "cell_type": "markdown",
   "metadata": {},
   "source": [
    "# Big Data Final Assignment #\n",
    "##### CSC-8101 #####\n",
    "#### Randy J. Rodriguez Collado ####"
   ]
  },
  {
   "cell_type": "markdown",
   "metadata": {},
   "source": [
    "## Task 1 ##"
   ]
  },
  {
   "cell_type": "code",
   "execution_count": null,
   "metadata": {},
   "outputs": [],
   "source": [
    "from pyspark import SparkContext\n",
    "from pyspark.sql.types import StructType, StructField, IntegerType, StringType\n",
    "import re\n",
    "from pyspark.sql.functions import udf\n",
    "\n",
    "NETFLIX_MOVIE_PATH=\"../../data/netflix_movie_titles.txt\"\n",
    "MOVIE_CANOCICAL_PATH=\"../../data/movie_titles_canonical.txt\""
   ]
  },
  {
   "cell_type": "code",
   "execution_count": 99,
   "metadata": {},
   "outputs": [
    {
     "data": {
      "text/plain": [
       "DataFrame[id: int, year: int, name: string]"
      ]
     },
     "execution_count": 99,
     "metadata": {},
     "output_type": "execute_result"
    }
   ],
   "source": [
    "netflix_movie_schema = StructType([\n",
    "    StructField(\"id\", IntegerType(), False),\n",
    "    StructField(\"year\", IntegerType(), False),\n",
    "    StructField(\"name\", StringType(), False)])\n",
    "\n",
    "netflix_movie_df = spark.read.csv(NETFLIX_MOVIE_PATH,header=False,schema=netflix_movie_schema,mode='DROPMALFORMED', multiLine=True)\n",
    "netflix_movie_df"
   ]
  },
  {
   "cell_type": "code",
   "execution_count": 100,
   "metadata": {},
   "outputs": [
    {
     "data": {
      "text/plain": [
       "DataFrame[name: string, year: int]"
      ]
     },
     "execution_count": 100,
     "metadata": {},
     "output_type": "execute_result"
    }
   ],
   "source": [
    "canonical_schema = StructType([\n",
    "    StructField(\"name\", StringType(), False),\n",
    "    StructField(\"year\", IntegerType(), False)])\n",
    "\n",
    "canonical_df = spark.read.csv(MOVIE_CANOCICAL_PATH,header=False,schema=canonical_schema,mode='DROPMALFORMED', multiLine=True)#.rdd.map(lambda i: (i[1],i[0]))\n",
    "canonical_df"
   ]
  },
  {
   "cell_type": "code",
   "execution_count": 101,
   "metadata": {},
   "outputs": [
    {
     "name": "stdout",
     "output_type": "stream",
     "text": [
      "+-----+----+--------------------+\n",
      "|   id|year|                name|\n",
      "+-----+----+--------------------+\n",
      "| 7654|1896|Lumiere Brothers'...|\n",
      "| 4975|1909|D.W. Griffith: Ye...|\n",
      "| 9103|1914|Tillie's Puncture...|\n",
      "|10898|1914|             Cabiria|\n",
      "| 8821|1915|The Birth of a Na...|\n",
      "|14687|1915|Chaplin's Essanay...|\n",
      "| 3137|1915|        Les Vampires|\n",
      "| 9001|1915|Chaplin's Essanay...|\n",
      "|13147|1915|Chaplin's Essanay...|\n",
      "| 3387|1916|         Intolerance|\n",
      "+-----+----+--------------------+\n",
      "only showing top 10 rows\n",
      "\n"
     ]
    }
   ],
   "source": [
    "netflix_movie_df = netflix_movie_df.orderBy(netflix_movie_df.year)\n",
    "netflix_movie_df.show(10)"
   ]
  },
  {
   "cell_type": "code",
   "execution_count": 102,
   "metadata": {},
   "outputs": [],
   "source": [
    "max_netflix_year = netflix_movie_df.agg({\"year\": \"max\"}).collect()[0][0]\n",
    "min_netflix_year = netflix_movie_df.agg({\"year\": \"min\"}).collect()[0][0]"
   ]
  },
  {
   "cell_type": "code",
   "execution_count": 103,
   "metadata": {},
   "outputs": [],
   "source": [
    "canonical_df = canonical_df.filter(canonical_df.year >= min_netflix_year).filter(canonical_df.year <= max_netflix_year).orderBy(canonical_df.year.desc())"
   ]
  },
  {
   "cell_type": "code",
   "execution_count": 104,
   "metadata": {},
   "outputs": [],
   "source": [
    "@udf\n",
    "def clean_title(string):\n",
    "    return re.sub('[^A-Za-z0-9 ]+', '', string).lower()"
   ]
  },
  {
   "cell_type": "code",
   "execution_count": 105,
   "metadata": {},
   "outputs": [
    {
     "name": "stdout",
     "output_type": "stream",
     "text": [
      "+-----+----+--------------------+\n",
      "|   id|year|               title|\n",
      "+-----+----+--------------------+\n",
      "| 7654|1896|lumiere brothers ...|\n",
      "| 4975|1909|dw griffith years...|\n",
      "| 9103|1914|tillies punctured...|\n",
      "|10898|1914|             cabiria|\n",
      "| 8821|1915|the birth of a na...|\n",
      "|14687|1915|chaplins essanay ...|\n",
      "| 3137|1915|        les vampires|\n",
      "| 9001|1915|chaplins essanay ...|\n",
      "|13147|1915|chaplins essanay ...|\n",
      "| 3387|1916|         intolerance|\n",
      "+-----+----+--------------------+\n",
      "only showing top 10 rows\n",
      "\n"
     ]
    }
   ],
   "source": [
    "netflix_movie_df = netflix_movie_df.withColumn(\"title\", clean_title(\"name\")).drop(\"name\")\n",
    "netflix_movie_df.show(10)"
   ]
  },
  {
   "cell_type": "code",
   "execution_count": 106,
   "metadata": {},
   "outputs": [
    {
     "name": "stdout",
     "output_type": "stream",
     "text": [
      "+--------------------+----+--------------------+\n",
      "|                name|year|               title|\n",
      "+--------------------+----+--------------------+\n",
      "|   War of the Worlds|2005|   war of the worlds|\n",
      "|       Batman Begins|2005|       batman begins|\n",
      "|         Match Point|2005|         match point|\n",
      "|Charlie and the C...|2005|charlie and the c...|\n",
      "|  Brokeback Mountain|2005|  brokeback mountain|\n",
      "|             Jarhead|2005|             jarhead|\n",
      "|The Secret Life o...|2005|the secret life o...|\n",
      "|A History of Viol...|2005|a history of viol...|\n",
      "|     The Interpreter|2005|     the interpreter|\n",
      "|       Walk the Line|2005|       walk the line|\n",
      "+--------------------+----+--------------------+\n",
      "only showing top 10 rows\n",
      "\n"
     ]
    }
   ],
   "source": [
    "canonical_df = canonical_df.withColumn(\"title\", clean_title(\"name\"))\n",
    "canonical_df.show(10)"
   ]
  },
  {
   "cell_type": "code",
   "execution_count": 107,
   "metadata": {},
   "outputs": [
    {
     "name": "stdout",
     "output_type": "stream",
     "text": [
      "+-----+--------------------+\n",
      "|   id|                name|\n",
      "+-----+--------------------+\n",
      "|10898|             Cabiria|\n",
      "| 8821|The Birth of a Na...|\n",
      "| 3387|         Intolerance|\n",
      "| 9898|Dr. Jekyll and Mr...|\n",
      "| 9898|Dr. Jekyll and Mr...|\n",
      "|11825|             The Kid|\n",
      "|11318| Nanook of the North|\n",
      "| 3554|      The Last Laugh|\n",
      "| 4249| Battleship Potemkin|\n",
      "| 5963|       The Gold Rush|\n",
      "+-----+--------------------+\n",
      "only showing top 10 rows\n",
      "\n"
     ]
    }
   ],
   "source": [
    "joined_df = netflix_movie_df.join(canonical_df, (netflix_movie_df.year == canonical_df.year) & (netflix_movie_df.title == canonical_df.title))\n",
    "joined_df = joined_df.drop(\"title\").drop(\"year\")\n",
    "joined_df.show(10)"
   ]
  },
  {
   "cell_type": "code",
   "execution_count": 108,
   "metadata": {},
   "outputs": [
    {
     "data": {
      "text/plain": [
       "3648"
      ]
     },
     "execution_count": 108,
     "metadata": {},
     "output_type": "execute_result"
    }
   ],
   "source": [
    "joined_df.count()"
   ]
  },
  {
   "cell_type": "markdown",
   "metadata": {},
   "source": [
    "## Task 2 ##"
   ]
  },
  {
   "cell_type": "code",
   "execution_count": 2,
   "metadata": {},
   "outputs": [],
   "source": [
    "from pyspark.ml.recommendation import ALS \n",
    "from pyspark.ml.recommendation import ALSModel\n",
    "from pyspark.sql import SQLContext\n",
    "\n",
    "SAMPLE_PARQUET_PATH=\"../../data/mv_sampled.parquet\""
   ]
  },
  {
   "cell_type": "code",
   "execution_count": 3,
   "metadata": {},
   "outputs": [],
   "source": [
    "sc = SparkContext.getOrCreate()\n",
    "sqlContext = SQLContext(sc)"
   ]
  },
  {
   "cell_type": "code",
   "execution_count": 4,
   "metadata": {},
   "outputs": [
    {
     "data": {
      "text/plain": [
       "DataFrame[movieId: bigint, rating: double, userId: bigint]"
      ]
     },
     "execution_count": 4,
     "metadata": {},
     "output_type": "execute_result"
    }
   ],
   "source": [
    "sample_data_df = sqlContext.read.parquet(SAMPLE_PARQUET_PATH).drop('timestamp')\n",
    "sample_data_df"
   ]
  },
  {
   "cell_type": "code",
   "execution_count": 5,
   "metadata": {},
   "outputs": [
    {
     "data": {
      "text/plain": [
       "DataFrame[movieId: bigint, rating: double, userId: bigint]"
      ]
     },
     "execution_count": 5,
     "metadata": {},
     "output_type": "execute_result"
    }
   ],
   "source": [
    "(train_df, test_df) = sample_data_df.randomSplit([0.8,0.2])\n",
    "train_df"
   ]
  },
  {
   "cell_type": "code",
   "execution_count": 6,
   "metadata": {},
   "outputs": [
    {
     "data": {
      "text/plain": [
       "10"
      ]
     },
     "execution_count": 6,
     "metadata": {},
     "output_type": "execute_result"
    }
   ],
   "source": [
    "als_param = ALS(rank=10,maxIter=5,regParam=0.01,userCol='userId',itemCol='movieId',ratingCol='rating',coldStartStrategy='drop')\n",
    "als_model = als_param.fit(train_df)\n",
    "als_model.rank"
   ]
  },
  {
   "cell_type": "code",
   "execution_count": 7,
   "metadata": {},
   "outputs": [
    {
     "name": "stdout",
     "output_type": "stream",
     "text": [
      "+-------+------+-------+-----------+\n",
      "|movieId|rating| userId| prediction|\n",
      "+-------+------+-------+-----------+\n",
      "|    148|   5.0|2528213|  0.8507967|\n",
      "|    148|   5.0|1892759|-0.72667825|\n",
      "|    148|   2.0|2614093|  -3.554331|\n",
      "|    148|   2.0| 412221| -1.6509634|\n",
      "|    148|   1.0|2589259| -4.5433054|\n",
      "|    148|   5.0|1712386|  3.8130896|\n",
      "|    148|   2.0|2157060|  0.5814957|\n",
      "|    148|   3.0|1606487| -2.7101128|\n",
      "|    148|   3.0| 146307| -2.2028742|\n",
      "|    148|   2.0|2333531|0.101098344|\n",
      "+-------+------+-------+-----------+\n",
      "only showing top 10 rows\n",
      "\n"
     ]
    }
   ],
   "source": [
    "predictions = als_model.transform(test_df)\n",
    "predictions.show(10)"
   ]
  },
  {
   "cell_type": "markdown",
   "metadata": {},
   "source": [
    "## Task 3 ##"
   ]
  },
  {
   "cell_type": "code",
   "execution_count": 119,
   "metadata": {},
   "outputs": [],
   "source": [
    "#Question, is there a way to not recommend for all users?\n",
    "all_users_recommendations = als_model.recommendForAllUsers(10)\n",
    "all_users_recommendations.persist()\n",
    "raw_recommendations = all_users_recommendations.filter(all_users_recommendations.userId == 30878).collect()[0]['recommendations']"
   ]
  },
  {
   "cell_type": "code",
   "execution_count": 120,
   "metadata": {},
   "outputs": [
    {
     "name": "stdout",
     "output_type": "stream",
     "text": [
      "+-------+------------------+\n",
      "|movieId|            rating|\n",
      "+-------+------------------+\n",
      "|   8709|27.525110244750977|\n",
      "|   5632|23.876440048217773|\n",
      "|  11860|23.497241973876953|\n",
      "|  12658| 23.28026580810547|\n",
      "|  10439|22.855117797851562|\n",
      "|   5831|22.717992782592773|\n",
      "|   5139| 22.64234733581543|\n",
      "|  11641|        21.9609375|\n",
      "|   3838|21.103553771972656|\n",
      "|  13258|20.970252990722656|\n",
      "+-------+------------------+\n",
      "\n"
     ]
    }
   ],
   "source": [
    "recommendations_df = spark.createDataFrame(raw_recommendations)\n",
    "recommendations_df.show(10)"
   ]
  },
  {
   "cell_type": "code",
   "execution_count": 121,
   "metadata": {},
   "outputs": [
    {
     "name": "stdout",
     "output_type": "stream",
     "text": [
      "+-----+--------------------+------------------+\n",
      "|   id|               title|            rating|\n",
      "+-----+--------------------+------------------+\n",
      "| 8709|        mr wonderful|27.525110244750977|\n",
      "| 5632|midsomer murders ...|23.876440048217773|\n",
      "|11860|bruce lee fists o...|23.497241973876953|\n",
      "|12658|the vicar of dibl...| 23.28026580810547|\n",
      "|10439|          the circus|22.855117797851562|\n",
      "| 5831|     bluehill avenue|22.717992782592773|\n",
      "| 5139|a simple twist of...| 22.64234733581543|\n",
      "|11641|    my socalled life|        21.9609375|\n",
      "| 3838|cardcaptor sakura...|21.103553771972656|\n",
      "|13258|                gozu|20.970252990722656|\n",
      "+-----+--------------------+------------------+\n",
      "\n"
     ]
    }
   ],
   "source": [
    "user_recommendations_df = netflix_movie_df.join(recommendations_df, netflix_movie_df.id == recommendations_df.movieId).select(netflix_movie_df.id, netflix_movie_df.title, recommendations_df.rating)\n",
    "user_recommendations_df.show(10)"
   ]
  },
  {
   "cell_type": "code",
   "execution_count": 122,
   "metadata": {},
   "outputs": [],
   "source": [
    "user_recommendations_df.coalesce(1).rdd.map(tuple).saveAsTextFile('assignemnt_task3')"
   ]
  },
  {
   "cell_type": "markdown",
   "metadata": {},
   "source": [
    "## Task 4 ##"
   ]
  },
  {
   "cell_type": "code",
   "execution_count": 87,
   "metadata": {},
   "outputs": [
    {
     "name": "stdout",
     "output_type": "stream",
     "text": [
      "Root Mean Square Error = 6.24412\n"
     ]
    }
   ],
   "source": [
    "evaluator = RegressionEvaluator(labelCol=\"rating\", predictionCol=\"prediction\", metricName=\"rmse\")\n",
    "rmse = evaluator.evaluate(predictions)\n",
    "print(\"Root Mean Square Error = %g\" % rmse)"
   ]
  },
  {
   "cell_type": "markdown",
   "metadata": {},
   "source": [
    "## Task 5 ##"
   ]
  },
  {
   "cell_type": "code",
   "execution_count": 88,
   "metadata": {},
   "outputs": [],
   "source": [
    "from pyspark.ml.tuning import CrossValidator, ParamGridBuilder\n",
    "from pyspark.ml.evaluation import RegressionEvaluator"
   ]
  },
  {
   "cell_type": "code",
   "execution_count": 89,
   "metadata": {},
   "outputs": [
    {
     "data": {
      "text/plain": [
       "RegressionEvaluator_4150a2ee186c0baca84d"
      ]
     },
     "execution_count": 89,
     "metadata": {},
     "output_type": "execute_result"
    }
   ],
   "source": [
    "als_rating_param = ALS(userCol='userId',itemCol='movieId',ratingCol='rating',coldStartStrategy='drop')\n",
    "param_grid = ParamGridBuilder().addGrid(als_rating_param.rank, [15]).addGrid(als_rating_param.maxIter, [10]).addGrid(als_rating_param.regParam, [0.05,0.1]).build()\n",
    "regression_eval = RegressionEvaluator()\n",
    "regression_eval.setMetricName(\"rmse\")\n",
    "regression_eval.setPredictionCol(\"prediction\")\n",
    "regression_eval.setLabelCol(\"rating\")"
   ]
  },
  {
   "cell_type": "code",
   "execution_count": 90,
   "metadata": {},
   "outputs": [],
   "source": [
    "cross_validator = CrossValidator(estimator=als_rating_param, estimatorParamMaps=param_grid, evaluator=regression_eval, numFolds=2)\n",
    "cv_model = cross_validator.fit(train_df)"
   ]
  },
  {
   "cell_type": "code",
   "execution_count": 91,
   "metadata": {},
   "outputs": [
    {
     "name": "stdout",
     "output_type": "stream",
     "text": [
      "+-------+------+-------+----------+\n",
      "|movieId|rating| userId|prediction|\n",
      "+-------+------+-------+----------+\n",
      "|    148|   5.0|2528213|  1.738977|\n",
      "|    148|   5.0|1892759| 0.6468946|\n",
      "|    148|   2.0|2614093| 2.5850089|\n",
      "|    148|   2.0| 412221| 1.9417876|\n",
      "|    148|   1.0|2589259| 2.5654597|\n",
      "|    148|   5.0|1712386| 2.4267342|\n",
      "|    148|   2.0|2157060| 2.9371736|\n",
      "|    148|   3.0|1606487| 1.7900494|\n",
      "|    148|   3.0| 146307| 1.8086294|\n",
      "|    148|   2.0|2333531|0.46258342|\n",
      "+-------+------+-------+----------+\n",
      "only showing top 10 rows\n",
      "\n"
     ]
    }
   ],
   "source": [
    "cv_results_df = cv_model.transform(test_df)\n",
    "cv_results_df.show(10)"
   ]
  },
  {
   "cell_type": "code",
   "execution_count": 92,
   "metadata": {},
   "outputs": [
    {
     "name": "stdout",
     "output_type": "stream",
     "text": [
      "Root Mean Square Error = 1.48549\n"
     ]
    }
   ],
   "source": [
    "evaluator = RegressionEvaluator(labelCol=\"rating\", predictionCol=\"prediction\", metricName=\"rmse\")\n",
    "rmse = evaluator.evaluate(cv_results_df)\n",
    "print(\"Root Mean Square Error = %g\" % rmse)"
   ]
  },
  {
   "cell_type": "markdown",
   "metadata": {},
   "source": [
    "## Task 6 ##"
   ]
  },
  {
   "cell_type": "code",
   "execution_count": 93,
   "metadata": {},
   "outputs": [],
   "source": [
    "from pyspark.sql.types import StructType, StructField, IntegerType, StringType\n",
    "QUALIFYING_SIMPLE_PATH=\"../../data/qualifying_simple.txt\""
   ]
  },
  {
   "cell_type": "code",
   "execution_count": 94,
   "metadata": {},
   "outputs": [
    {
     "name": "stdout",
     "output_type": "stream",
     "text": [
      "+------+-------+----------+\n",
      "|userId|movieId|      date|\n",
      "+------+-------+----------+\n",
      "|     1|1046323|2005-12-19|\n",
      "|     1|1080030|2005-12-23|\n",
      "|     1|1830096|2005-03-14|\n",
      "|     1| 368059|2005-05-26|\n",
      "|     1| 802003|2005-11-07|\n",
      "|     1| 513509|2005-07-04|\n",
      "|     1|1086137|2005-09-21|\n",
      "|     1| 428698|2005-12-20|\n",
      "|     1| 515850|2005-11-27|\n",
      "|     1| 131974|2005-12-15|\n",
      "+------+-------+----------+\n",
      "only showing top 10 rows\n",
      "\n"
     ]
    }
   ],
   "source": [
    "qualifying_simple_schema = StructType([\n",
    "    StructField(\"userId\", IntegerType(), False),\n",
    "    StructField(\"movieId\", IntegerType(), False),\n",
    "    StructField(\"date\", StringType(), False)])\n",
    "\n",
    "qualifying_simple_df = spark.read.csv(QUALIFYING_SIMPLE_PATH,header=False,schema=qualifying_simple_schema,mode='DROPMALFORMED', multiLine=True)\n",
    "qualifying_simple_df.show(10)"
   ]
  },
  {
   "cell_type": "code",
   "execution_count": 95,
   "metadata": {},
   "outputs": [
    {
     "name": "stdout",
     "output_type": "stream",
     "text": [
      "+------+-------+----------+-----------+\n",
      "|userId|movieId|      date| prediction|\n",
      "+------+-------+----------+-----------+\n",
      "| 10612|    471|2005-09-04|  -9.926776|\n",
      "|  7745|   2122|2005-11-16|  1.9553128|\n",
      "|  2612|   2659|2005-12-21|   -6.10647|\n",
      "|  3725|  10817|2005-10-27|  16.000393|\n",
      "|  1590|  14832|2005-09-19| -2.0345006|\n",
      "|  6797|  15790|2005-08-23|-0.27778524|\n",
      "| 14230|  16386|2005-12-12|-0.37058395|\n",
      "|  1798|    623|2005-08-15|-0.29319063|\n",
      "|  5862|   8803|2005-09-26| -1.4021175|\n",
      "| 16201|  10230|2005-12-21|  -2.931856|\n",
      "+------+-------+----------+-----------+\n",
      "only showing top 10 rows\n",
      "\n"
     ]
    }
   ],
   "source": [
    "qualifying_predictions =  als_model.transform(qualifying_simple_df)\n",
    "qualifying_predictions.show(10)"
   ]
  },
  {
   "cell_type": "code",
   "execution_count": 97,
   "metadata": {},
   "outputs": [],
   "source": [
    "qualifying_predictions.rdd.map(tuple).saveAsTextFile('qualifying_predictions')"
   ]
  },
  {
   "cell_type": "markdown",
   "metadata": {},
   "source": [
    "## Task 7 ##"
   ]
  },
  {
   "cell_type": "code",
   "execution_count": 83,
   "metadata": {},
   "outputs": [
    {
     "name": "stdout",
     "output_type": "stream",
     "text": [
      "+-------+----------+\n",
      "|movieId|prediction|\n",
      "+-------+----------+\n",
      "|   2342| 1.9457794|\n",
      "|   3579| 2.8052087|\n",
      "|  10359| 3.1876295|\n",
      "+-------+----------+\n",
      "\n"
     ]
    }
   ],
   "source": [
    "comparison_user_df = cv_results_df.filter(cv_results_df.userId == 30878).filter(cv_results_df.prediction >= 3).orderBy(cv_results_df.movieId.asc()).drop('rating').drop('userId')\n",
    "comparison_user_df.show(10)"
   ]
  },
  {
   "cell_type": "code",
   "execution_count": 84,
   "metadata": {},
   "outputs": [
    {
     "name": "stdout",
     "output_type": "stream",
     "text": [
      "+-------+-------+----------+\n",
      "|movieId| userId|prediction|\n",
      "+-------+-------+----------+\n",
      "|      1|1017324| 2.3924155|\n",
      "|      3|1153447|  1.819693|\n",
      "|      5|1170034|  2.019347|\n",
      "|      5| 590466|  3.332409|\n",
      "|      6| 381588| 2.8389723|\n",
      "|      6|  52856|   2.39281|\n",
      "|      8|1308307| 1.3842506|\n",
      "|      8|2571885| 1.9592941|\n",
      "|      8| 257806| 1.7223551|\n",
      "|      8| 444417| 1.6315118|\n",
      "+-------+-------+----------+\n",
      "only showing top 10 rows\n",
      "\n"
     ]
    }
   ],
   "source": [
    "compare_users_df = cv_results_df.filter((cv_results_df.userId != 30878) & (cv_results_df.prediction >= 3)).orderBy(cv_results_df.movieId.asc()).drop('rating')\n",
    "compare_users_df.show(10)"
   ]
  },
  {
   "cell_type": "code",
   "execution_count": 85,
   "metadata": {},
   "outputs": [
    {
     "name": "stdout",
     "output_type": "stream",
     "text": [
      "+-------+-----+\n",
      "| userId|count|\n",
      "+-------+-----+\n",
      "| 540833|    2|\n",
      "| 734490|    1|\n",
      "| 784765|    1|\n",
      "|1807031|    1|\n",
      "|  34408|    1|\n",
      "|1545960|    1|\n",
      "|2042978|    1|\n",
      "|2344564|    1|\n",
      "|2606295|    1|\n",
      "| 813730|    1|\n",
      "+-------+-----+\n",
      "only showing top 10 rows\n",
      "\n"
     ]
    }
   ],
   "source": [
    "joined_df = compare_users_df.join(comparison_user_df, comparison_user_df.movieId == compare_users_df.movieId).select(compare_users_df.userId, compare_users_df.movieId)\n",
    "joined_df = joined_df.groupBy(compare_users_df.userId).count().orderBy(\"count\", ascending=False)\n",
    "joined_df.show(10)"
   ]
  }
 ],
 "metadata": {
  "kernelspec": {
   "display_name": "Python 3",
   "language": "python",
   "name": "python3"
  },
  "language_info": {
   "codemirror_mode": {
    "name": "ipython",
    "version": 3
   },
   "file_extension": ".py",
   "mimetype": "text/x-python",
   "name": "python",
   "nbconvert_exporter": "python",
   "pygments_lexer": "ipython3",
   "version": "3.5.2"
  }
 },
 "nbformat": 4,
 "nbformat_minor": 2
}
